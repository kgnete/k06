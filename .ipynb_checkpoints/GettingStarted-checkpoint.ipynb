{
 "cells": [
  {
   "attachments": {},
   "cell_type": "markdown",
   "metadata": {},
   "source": [
    "* [INDICE](0-indice.ipynb)\n",
    "\n",
    "The code distribution we'll use for this software introduction is found [here](/pics/L16302x.zip) . It is the same as the distribution used for Lab 1. Different versions will be posted for different labs.\n",
    "Download the .zip file, extract it, and look inside. You'll see the following things:\n",
    "\n",
    "    An empty directory called csv_files. Don't worry about this thing for right now.\n",
    "\n",
    "    The file prop_control_week1.ino. This is the script you will upload onto your Adruino for Week 1. It does not need to remain in this folder, and you'll need to probably re-save it elsewhere in order to get it to upload to your Arduino.\n",
    "    The file server.py. This is the Python script you will run on your machine for establishing communiation with your Arduino and browser GUI (Graphical User Interface)\n",
    "\n",
    "    The file index.html. This is a webpage that acts as your GUI.\n",
    "\n",
    "    The file req.txt. This is a file that lists libraries needed in addition to normal Python. Don't worry about it right now, but we'll use it during install.\n",
    "\n",
    "    The directory static. This has the javascript/css libraries your browser GUI uses. We use local copies of these libraries so you can run this software when not connected to the internet. Just leave this as it is.\n",
    "\n",
    "Ok onto the install. We'll first start with the Arduino Environment."
   ]
  },
  {
   "cell_type": "code",
   "execution_count": null,
   "metadata": {},
   "outputs": [],
   "source": []
  }
 ],
 "metadata": {
  "kernelspec": {
   "display_name": "Python 3",
   "language": "python",
   "name": "python3"
  },
  "language_info": {
   "codemirror_mode": {
    "name": "ipython",
    "version": 3
   },
   "file_extension": ".py",
   "mimetype": "text/x-python",
   "name": "python",
   "nbconvert_exporter": "python",
   "pygments_lexer": "ipython3",
   "version": "3.7.3"
  }
 },
 "nbformat": 4,
 "nbformat_minor": 2
}
