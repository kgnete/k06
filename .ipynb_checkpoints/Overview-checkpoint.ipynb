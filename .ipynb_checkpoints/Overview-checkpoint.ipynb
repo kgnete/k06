{
 "cells": [
  {
   "cell_type": "markdown",
   "metadata": {},
   "source": [
    "* [INDICE](0-indice.ipynb)\n",
    "\n",
    "\n",
    "We experience a world that evolves in continuous time, full of physical objects whose trajectories are accurately modeled with differential equations. We drop a ball, and gravity accelerates it. The ball's acceleration is the time derivative of the its velocity, and its velocity is the time derivative of its position. But from the perspective of a computer, the continuous-time world must be reconstructed from a series of samples collected at discrete time-points. A falling ball's velocity must be approximated from differences in successive position samples, its acceleration approximated from the change in position differences from one pair of samples to the next.\n",
    "\n",
    "One might wonder if the computer's discrete-time perspective is more accurate. Perhaps continuous time is just a convenient model for what is actually discrete, just as Newtonian mechanics is a convenient model for what is actually quantized. But such musings are best left to scientists and philosophers. As engineers, we have work to do. Computers, in their many forms (digital signal processors, microprocessors, micro-controllers, etc), are powerful tools that are pervasive in engineering design. We can work with them more effectively if we understand their perspective.\n",
    "\n",
    "On the computer, it is more natural to think in terms of sequences. Derivatives in time become differences between samples, integrals become sums, and physical system trajectories governed by differential equations become sample sequences governed by difference equations. Adopting this perspective from the beginning can help us design better systems. And as an added benefit, you can study this subject even if you have not yet studied calculus or differential equations.\n",
    "\n",
    "In this first set of notes, we will use a number of examples to introduce:\n",
    "\n",
    "    our notation for sequences and linear difference equations (LDEs),\n",
    "\n",
    "    how to model a physical problem using LDEs,\n",
    "\n",
    "    how to solve LDEs by computing natural frequencies,\n",
    "\n",
    "    some important properties of complex numbers.\n",
    "\n",
    "This class focuses on control problems that can be modeled with linear difference equations (LDE's), a surprisingly rich topic both theoretically and practically. And in this first set of notes, we study homogenous LDE's, LDE's with initial conditions but no inputs, so that we can emphasize three central concepts:\n",
    "\n",
    "    LDE's and the systems they represent have natural frequencies,\n",
    "\n",
    "    If an LDE has a natural frequency with magnitude greater than one, the LDE is unstable.\n",
    "\n",
    "    Sequences associated with unstable LDEs can grow exponentially."
   ]
  },
  {
   "cell_type": "code",
   "execution_count": null,
   "metadata": {},
   "outputs": [],
   "source": []
  }
 ],
 "metadata": {
  "kernelspec": {
   "display_name": "Python 3",
   "language": "python",
   "name": "python3"
  },
  "language_info": {
   "codemirror_mode": {
    "name": "ipython",
    "version": 3
   },
   "file_extension": ".py",
   "mimetype": "text/x-python",
   "name": "python",
   "nbconvert_exporter": "python",
   "pygments_lexer": "ipython3",
   "version": "3.7.3"
  }
 },
 "nbformat": 4,
 "nbformat_minor": 2
}
