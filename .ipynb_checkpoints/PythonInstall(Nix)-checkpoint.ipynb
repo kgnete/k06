{
 "cells": [
  {
   "cell_type": "markdown",
   "metadata": {},
   "source": [
    "* [INDICE](0-indice.ipynb)\n",
    "\n",
    "Depending on your Unix/Linux distribution, you may already have Python. You can check by opening up a terminal up and typing:\n",
    "    python --version\n",
    "to see if you have Python Version 2 and:\n",
    "\n",
    "    python3 --version\n",
    "to see if you have Python Version 3. Some text should come back telling you if you have Python and what version it is. Our code should work on both Python versions 2.7 and above as well as Python 3.3 and above. If you do not have Python installed, you need to do that. I'd recommend getting Python 3 for this software, though both families (2.7+ and 3+ will work). Go to the Python Download Page, find the appropriate install version for your computer, follow the directions, and you should be good.\n",
    "\n",
    "Depending on your settings you could also just do:\n",
    "\n",
    "sudo apt-get install python\n",
    "for Python 2 or\n",
    "\n",
    "    sudo apt-get install python3\n",
    "for Python 3.\n",
    "\n",
    "Pip\n",
    "The next piece which you need is pip, which is a nice Python Package Manager that we use to install the appropriate install files. If you download either the newest version of Python 2 (after v 2.7.9) and any version of Python3 starting with Python3.4 come with pip preinstalled. To make sure you have pip if you're using the Python 2 family, run:\n",
    "pip --version\n",
    "If you're using the Python 3 series, run:\n",
    "\n",
    "pip3 --version\n",
    "If some stuff comes back giving you a version number, you'll be good to go. If not I'd recommend you update your Python (using the Python download link above) and in the process get pip by default!"
   ]
  },
  {
   "cell_type": "code",
   "execution_count": null,
   "metadata": {},
   "outputs": [],
   "source": []
  }
 ],
 "metadata": {
  "kernelspec": {
   "display_name": "Python 3",
   "language": "python",
   "name": "python3"
  },
  "language_info": {
   "codemirror_mode": {
    "name": "ipython",
    "version": 3
   },
   "file_extension": ".py",
   "mimetype": "text/x-python",
   "name": "python",
   "nbconvert_exporter": "python",
   "pygments_lexer": "ipython3",
   "version": "3.7.3"
  }
 },
 "nbformat": 4,
 "nbformat_minor": 2
}
