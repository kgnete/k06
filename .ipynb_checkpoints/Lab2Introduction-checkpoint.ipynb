{
 "cells": [
  {
   "cell_type": "markdown",
   "metadata": {},
   "source": [
    "* [INDICE](0-indice.ipynb)\n",
    "\n",
    "\n",
    "\n",
    "\n",
    "We would like to acknowledge the many of the excellent comments and suggestions from the discussion board. They appear in this lab to a significant extent, and deserve attribution.\n",
    "\n",
    "In this lab we're going to be looking using feedback and feedforward techniques for motor speed control with our propeller assembly. First we will build up a model, then test it by making some predictions, and then you will use it to design an improved controller by combining feedback and feedforward ideas.\n",
    "\n",
    "The are three steps to set up for this lab:\n",
    "\n",
    "    Read the short lecture and solve the practice problems.\n",
    "\n",
    "    Download and install the week two Arduino sketch and the Browser-based GUI (found on the next page of this lab).\n",
    "\n",
    "    Do the lab.\n",
    "\n",
    "What follows is a description of the week two version of the software, followed by a brief tutorial on the arm (describing the Arduino code and the circuitry), and we will then examine feedback and feed-forward approaches to controlling the speed of the copter motor.\n",
    "\n"
   ]
  }
 ],
 "metadata": {
  "kernelspec": {
   "display_name": "Python 3",
   "language": "python",
   "name": "python3"
  },
  "language_info": {
   "codemirror_mode": {
    "name": "ipython",
    "version": 3
   },
   "file_extension": ".py",
   "mimetype": "text/x-python",
   "name": "python",
   "nbconvert_exporter": "python",
   "pygments_lexer": "ipython3",
   "version": "3.7.3"
  }
 },
 "nbformat": 4,
 "nbformat_minor": 2
}
